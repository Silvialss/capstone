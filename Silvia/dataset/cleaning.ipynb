{
 "cells": [
  {
   "cell_type": "code",
   "execution_count": 1,
   "metadata": {},
   "outputs": [],
   "source": [
    "import pandas as pd\n",
    "import re\n",
    "import urllib\n",
    "import requests\n",
    "import shutil"
   ]
  },
  {
   "cell_type": "code",
   "execution_count": 3,
   "metadata": {},
   "outputs": [],
   "source": [
    "hm_tops = pd.read_csv('hm_tops.csv')"
   ]
  },
  {
   "cell_type": "code",
   "execution_count": 4,
   "metadata": {},
   "outputs": [
    {
     "data": {
      "text/html": [
       "<div>\n",
       "<style scoped>\n",
       "    .dataframe tbody tr th:only-of-type {\n",
       "        vertical-align: middle;\n",
       "    }\n",
       "\n",
       "    .dataframe tbody tr th {\n",
       "        vertical-align: top;\n",
       "    }\n",
       "\n",
       "    .dataframe thead th {\n",
       "        text-align: right;\n",
       "    }\n",
       "</style>\n",
       "<table border=\"1\" class=\"dataframe\">\n",
       "  <thead>\n",
       "    <tr style=\"text-align: right;\">\n",
       "      <th></th>\n",
       "      <th>price</th>\n",
       "      <th>material</th>\n",
       "      <th>description</th>\n",
       "      <th>imgurl</th>\n",
       "      <th>title</th>\n",
       "    </tr>\n",
       "  </thead>\n",
       "  <tbody>\n",
       "    <tr>\n",
       "      <th>0</th>\n",
       "      <td>\\r\\n                $4.99\\r\\n</td>\n",
       "      <td>Front: Length: 63.0 cm (Size M)</td>\n",
       "      <td>T-shirt in lightweight cotton jersey with a ro...</td>\n",
       "      <td>https://lp2.hm.com/hmgoepprod?set=source[/7d/5...</td>\n",
       "      <td>\\r\\n\\t\\t\\t\\t\\t\\t\\t  Cotton T-shirt\\r\\n\\t\\t\\t\\t...</td>\n",
       "    </tr>\n",
       "    <tr>\n",
       "      <th>1</th>\n",
       "      <td>\\r\\n                $14.99\\r\\n</td>\n",
       "      <td>Viscose 100%</td>\n",
       "      <td>Long-sleeved top in airy viscose jersey with a...</td>\n",
       "      <td>https://lp2.hm.com/hmgoepprod?set=source[/3d/e...</td>\n",
       "      <td>\\r\\n\\t\\t\\t\\t\\t\\t\\t  V-neck Jersey Top\\r\\n\\t\\t\\...</td>\n",
       "    </tr>\n",
       "    <tr>\n",
       "      <th>2</th>\n",
       "      <td>\\r\\n                $9.99\\r\\n</td>\n",
       "      <td>Viscose 100%</td>\n",
       "      <td>Sleeveless top in soft viscose jersey with lac...</td>\n",
       "      <td>https://lp2.hm.com/hmgoepprod?set=source[/17/0...</td>\n",
       "      <td>\\r\\n\\t\\t\\t\\t\\t\\t\\t  Jersey Top with Lace\\r\\n\\t...</td>\n",
       "    </tr>\n",
       "    <tr>\n",
       "      <th>3</th>\n",
       "      <td>\\r\\n                $9.99\\r\\n</td>\n",
       "      <td>Polyester 100%</td>\n",
       "      <td>CONSCIOUS. V-neck top in airy jersey made from...</td>\n",
       "      <td>https://lp2.hm.com/hmgoepprod?set=source[/6c/8...</td>\n",
       "      <td>\\r\\n\\t\\t\\t\\t\\t\\t\\t  V-neck Top\\r\\n\\t\\t\\t\\t\\t\\t\\t</td>\n",
       "    </tr>\n",
       "    <tr>\n",
       "      <th>4</th>\n",
       "      <td>\\r\\n                $2.99\\r\\n</td>\n",
       "      <td>Fitted</td>\n",
       "      <td>Fitted camisole top in jersey with narrow shou...</td>\n",
       "      <td>https://lp2.hm.com/hmgoepprod?set=source[/e4/8...</td>\n",
       "      <td>\\r\\n\\t\\t\\t\\t\\t\\t\\t  Jersey Camisole Top\\r\\n\\t\\...</td>\n",
       "    </tr>\n",
       "  </tbody>\n",
       "</table>\n",
       "</div>"
      ],
      "text/plain": [
       "                                        price  \\\n",
       "0   \\r\\n                $4.99\\r\\n               \n",
       "1  \\r\\n                $14.99\\r\\n               \n",
       "2   \\r\\n                $9.99\\r\\n               \n",
       "3   \\r\\n                $9.99\\r\\n               \n",
       "4   \\r\\n                $2.99\\r\\n               \n",
       "\n",
       "                          material  \\\n",
       "0  Front: Length: 63.0 cm (Size M)   \n",
       "1                     Viscose 100%   \n",
       "2                     Viscose 100%   \n",
       "3                   Polyester 100%   \n",
       "4                           Fitted   \n",
       "\n",
       "                                         description  \\\n",
       "0  T-shirt in lightweight cotton jersey with a ro...   \n",
       "1  Long-sleeved top in airy viscose jersey with a...   \n",
       "2  Sleeveless top in soft viscose jersey with lac...   \n",
       "3  CONSCIOUS. V-neck top in airy jersey made from...   \n",
       "4  Fitted camisole top in jersey with narrow shou...   \n",
       "\n",
       "                                              imgurl  \\\n",
       "0  https://lp2.hm.com/hmgoepprod?set=source[/7d/5...   \n",
       "1  https://lp2.hm.com/hmgoepprod?set=source[/3d/e...   \n",
       "2  https://lp2.hm.com/hmgoepprod?set=source[/17/0...   \n",
       "3  https://lp2.hm.com/hmgoepprod?set=source[/6c/8...   \n",
       "4  https://lp2.hm.com/hmgoepprod?set=source[/e4/8...   \n",
       "\n",
       "                                               title  \n",
       "0  \\r\\n\\t\\t\\t\\t\\t\\t\\t  Cotton T-shirt\\r\\n\\t\\t\\t\\t...  \n",
       "1  \\r\\n\\t\\t\\t\\t\\t\\t\\t  V-neck Jersey Top\\r\\n\\t\\t\\...  \n",
       "2  \\r\\n\\t\\t\\t\\t\\t\\t\\t  Jersey Top with Lace\\r\\n\\t...  \n",
       "3   \\r\\n\\t\\t\\t\\t\\t\\t\\t  V-neck Top\\r\\n\\t\\t\\t\\t\\t\\t\\t  \n",
       "4  \\r\\n\\t\\t\\t\\t\\t\\t\\t  Jersey Camisole Top\\r\\n\\t\\...  "
      ]
     },
     "execution_count": 4,
     "metadata": {},
     "output_type": "execute_result"
    }
   ],
   "source": [
    "hm_tops.head()"
   ]
  },
  {
   "cell_type": "code",
   "execution_count": 6,
   "metadata": {},
   "outputs": [],
   "source": [
    "def remove_spaces(dataset,column):\n",
    "    for i in range(0,len(dataset)):\n",
    "        dataset.loc[i,column] = re.sub('\\s+',' ',dataset.loc[i,column]).strip()"
   ]
  },
  {
   "cell_type": "code",
   "execution_count": 7,
   "metadata": {},
   "outputs": [],
   "source": [
    "remove_spaces(hm_tops,'price')"
   ]
  },
  {
   "cell_type": "code",
   "execution_count": 8,
   "metadata": {},
   "outputs": [],
   "source": [
    "remove_spaces(hm_tops,'title')"
   ]
  },
  {
   "cell_type": "code",
   "execution_count": 11,
   "metadata": {},
   "outputs": [],
   "source": [
    "hm_tops['brand'] = 'HM'"
   ]
  },
  {
   "cell_type": "code",
   "execution_count": 13,
   "metadata": {},
   "outputs": [],
   "source": [
    "hm_dresses = pd.read_csv('hm_dresses.csv')"
   ]
  },
  {
   "cell_type": "code",
   "execution_count": 15,
   "metadata": {},
   "outputs": [],
   "source": [
    "remove_spaces(hm_dresses,'price')\n",
    "remove_spaces(hm_dresses,'title')"
   ]
  },
  {
   "cell_type": "code",
   "execution_count": 17,
   "metadata": {},
   "outputs": [],
   "source": [
    "hm_dresses['brand'] = 'HM'"
   ]
  },
  {
   "cell_type": "code",
   "execution_count": 18,
   "metadata": {
    "scrolled": true
   },
   "outputs": [
    {
     "data": {
      "text/html": [
       "<div>\n",
       "<style scoped>\n",
       "    .dataframe tbody tr th:only-of-type {\n",
       "        vertical-align: middle;\n",
       "    }\n",
       "\n",
       "    .dataframe tbody tr th {\n",
       "        vertical-align: top;\n",
       "    }\n",
       "\n",
       "    .dataframe thead th {\n",
       "        text-align: right;\n",
       "    }\n",
       "</style>\n",
       "<table border=\"1\" class=\"dataframe\">\n",
       "  <thead>\n",
       "    <tr style=\"text-align: right;\">\n",
       "      <th></th>\n",
       "      <th>price</th>\n",
       "      <th>material</th>\n",
       "      <th>description</th>\n",
       "      <th>imgurl</th>\n",
       "      <th>title</th>\n",
       "      <th>brand</th>\n",
       "    </tr>\n",
       "  </thead>\n",
       "  <tbody>\n",
       "    <tr>\n",
       "      <th>0</th>\n",
       "      <td>$79.99</td>\n",
       "      <td>Inner layer: Polyester 100%</td>\n",
       "      <td>Calf-length lace dress with a V-neck. Narrow, ...</td>\n",
       "      <td>https://lp2.hm.com/hmgoepprod?set=source[/b3/e...</td>\n",
       "      <td>Lace Dress</td>\n",
       "      <td>HM</td>\n",
       "    </tr>\n",
       "    <tr>\n",
       "      <th>1</th>\n",
       "      <td>$29.99</td>\n",
       "      <td>Polyester 92%; Elastane 8%</td>\n",
       "      <td>Short dress in jersey with a printed design. S...</td>\n",
       "      <td>https://lp2.hm.com/hmgoepprod?set=source[/d4/f...</td>\n",
       "      <td>Short-sleeved Dress</td>\n",
       "      <td>HM</td>\n",
       "    </tr>\n",
       "    <tr>\n",
       "      <th>2</th>\n",
       "      <td>$29.99</td>\n",
       "      <td>Viscose 100%</td>\n",
       "      <td>Short dress in washed, woven viscose fabric wi...</td>\n",
       "      <td>https://lp2.hm.com/hmgoepprod?set=source[/b7/3...</td>\n",
       "      <td>Short Dress</td>\n",
       "      <td>HM</td>\n",
       "    </tr>\n",
       "    <tr>\n",
       "      <th>3</th>\n",
       "      <td>$49.99</td>\n",
       "      <td>Fitted</td>\n",
       "      <td>Short, fitted dress in stretch denim with a co...</td>\n",
       "      <td>https://lp2.hm.com/hmgoepprod?set=source[/97/4...</td>\n",
       "      <td>Fitted Shirt Dress</td>\n",
       "      <td>HM</td>\n",
       "    </tr>\n",
       "    <tr>\n",
       "      <th>4</th>\n",
       "      <td>$24.99</td>\n",
       "      <td>Viscose 100%</td>\n",
       "      <td>Shirt dress in soft woven fabric. Buttons at f...</td>\n",
       "      <td>https://lp2.hm.com/hmgoepprod?set=source[/1c/9...</td>\n",
       "      <td>Shirt Dress</td>\n",
       "      <td>HM</td>\n",
       "    </tr>\n",
       "  </tbody>\n",
       "</table>\n",
       "</div>"
      ],
      "text/plain": [
       "    price                     material  \\\n",
       "0  $79.99  Inner layer: Polyester 100%   \n",
       "1  $29.99   Polyester 92%; Elastane 8%   \n",
       "2  $29.99                 Viscose 100%   \n",
       "3  $49.99                       Fitted   \n",
       "4  $24.99                 Viscose 100%   \n",
       "\n",
       "                                         description  \\\n",
       "0  Calf-length lace dress with a V-neck. Narrow, ...   \n",
       "1  Short dress in jersey with a printed design. S...   \n",
       "2  Short dress in washed, woven viscose fabric wi...   \n",
       "3  Short, fitted dress in stretch denim with a co...   \n",
       "4  Shirt dress in soft woven fabric. Buttons at f...   \n",
       "\n",
       "                                              imgurl                title  \\\n",
       "0  https://lp2.hm.com/hmgoepprod?set=source[/b3/e...           Lace Dress   \n",
       "1  https://lp2.hm.com/hmgoepprod?set=source[/d4/f...  Short-sleeved Dress   \n",
       "2  https://lp2.hm.com/hmgoepprod?set=source[/b7/3...          Short Dress   \n",
       "3  https://lp2.hm.com/hmgoepprod?set=source[/97/4...   Fitted Shirt Dress   \n",
       "4  https://lp2.hm.com/hmgoepprod?set=source[/1c/9...          Shirt Dress   \n",
       "\n",
       "  brand  \n",
       "0    HM  \n",
       "1    HM  \n",
       "2    HM  \n",
       "3    HM  \n",
       "4    HM  "
      ]
     },
     "execution_count": 18,
     "metadata": {},
     "output_type": "execute_result"
    }
   ],
   "source": [
    "hm_dresses.head()"
   ]
  },
  {
   "cell_type": "code",
   "execution_count": null,
   "metadata": {},
   "outputs": [],
   "source": []
  },
  {
   "cell_type": "code",
   "execution_count": 20,
   "metadata": {},
   "outputs": [],
   "source": [
    "macy_tops = pd.read_csv('macy_top.csv')"
   ]
  },
  {
   "cell_type": "code",
   "execution_count": 21,
   "metadata": {},
   "outputs": [
    {
     "data": {
      "text/html": [
       "<div>\n",
       "<style scoped>\n",
       "    .dataframe tbody tr th:only-of-type {\n",
       "        vertical-align: middle;\n",
       "    }\n",
       "\n",
       "    .dataframe tbody tr th {\n",
       "        vertical-align: top;\n",
       "    }\n",
       "\n",
       "    .dataframe thead th {\n",
       "        text-align: right;\n",
       "    }\n",
       "</style>\n",
       "<table border=\"1\" class=\"dataframe\">\n",
       "  <thead>\n",
       "    <tr style=\"text-align: right;\">\n",
       "      <th></th>\n",
       "      <th>main_image</th>\n",
       "      <th>material_description</th>\n",
       "      <th>other_image_1</th>\n",
       "      <th>other_image_2</th>\n",
       "      <th>price</th>\n",
       "      <th>prodcut_description</th>\n",
       "    </tr>\n",
       "  </thead>\n",
       "  <tbody>\n",
       "    <tr>\n",
       "      <th>0</th>\n",
       "      <td>https://slimages.macysassets.com/is/image/MCY/...</td>\n",
       "      <td>Approx. model measurements: height: 5'10\"; bus...</td>\n",
       "      <td>NaN</td>\n",
       "      <td>NaN</td>\n",
       "      <td>$59.50</td>\n",
       "      <td>\\r\\n    An asymmetrical hem flows beautifully ...</td>\n",
       "    </tr>\n",
       "    <tr>\n",
       "      <th>1</th>\n",
       "      <td>https://slimages.macysassets.com/is/image/MCY/...</td>\n",
       "      <td>Approx. model height is 5'10\" and she is weari...</td>\n",
       "      <td>NaN</td>\n",
       "      <td>NaN</td>\n",
       "      <td>$79.50</td>\n",
       "      <td>\\r\\n    Subtle ruffled trim outlines the cold-...</td>\n",
       "    </tr>\n",
       "    <tr>\n",
       "      <th>2</th>\n",
       "      <td>https://slimages.macysassets.com/is/image/MCY/...</td>\n",
       "      <td>Approx. model height is 5'10\" and she is weari...</td>\n",
       "      <td>NaN</td>\n",
       "      <td>NaN</td>\n",
       "      <td>$54.50</td>\n",
       "      <td>\\r\\n    Give your look a laid-back vibe with S...</td>\n",
       "    </tr>\n",
       "    <tr>\n",
       "      <th>3</th>\n",
       "      <td>https://slimages.macysassets.com/is/image/MCY/...</td>\n",
       "      <td>Fitted; hits at hip,Ruched at side waist,V-nec...</td>\n",
       "      <td>NaN</td>\n",
       "      <td>NaN</td>\n",
       "      <td>$29.50</td>\n",
       "      <td>\\r\\n    Update your casual collection with thi...</td>\n",
       "    </tr>\n",
       "    <tr>\n",
       "      <th>4</th>\n",
       "      <td>https://slimages.macysassets.com/is/image/MCY/...</td>\n",
       "      <td>Sweetheart neckline; double-button closure at ...</td>\n",
       "      <td>NaN</td>\n",
       "      <td>NaN</td>\n",
       "      <td>$44.00</td>\n",
       "      <td>\\r\\n    Lace-up detailing accentuates the swee...</td>\n",
       "    </tr>\n",
       "  </tbody>\n",
       "</table>\n",
       "</div>"
      ],
      "text/plain": [
       "                                          main_image  \\\n",
       "0  https://slimages.macysassets.com/is/image/MCY/...   \n",
       "1  https://slimages.macysassets.com/is/image/MCY/...   \n",
       "2  https://slimages.macysassets.com/is/image/MCY/...   \n",
       "3  https://slimages.macysassets.com/is/image/MCY/...   \n",
       "4  https://slimages.macysassets.com/is/image/MCY/...   \n",
       "\n",
       "                                material_description other_image_1  \\\n",
       "0  Approx. model measurements: height: 5'10\"; bus...           NaN   \n",
       "1  Approx. model height is 5'10\" and she is weari...           NaN   \n",
       "2  Approx. model height is 5'10\" and she is weari...           NaN   \n",
       "3  Fitted; hits at hip,Ruched at side waist,V-nec...           NaN   \n",
       "4  Sweetheart neckline; double-button closure at ...           NaN   \n",
       "\n",
       "  other_image_2    price                                prodcut_description  \n",
       "0           NaN   $59.50  \\r\\n    An asymmetrical hem flows beautifully ...  \n",
       "1           NaN   $79.50  \\r\\n    Subtle ruffled trim outlines the cold-...  \n",
       "2           NaN   $54.50  \\r\\n    Give your look a laid-back vibe with S...  \n",
       "3           NaN   $29.50  \\r\\n    Update your casual collection with thi...  \n",
       "4           NaN   $44.00  \\r\\n    Lace-up detailing accentuates the swee...  "
      ]
     },
     "execution_count": 21,
     "metadata": {},
     "output_type": "execute_result"
    }
   ],
   "source": [
    "macy_tops.head()"
   ]
  },
  {
   "cell_type": "code",
   "execution_count": 23,
   "metadata": {},
   "outputs": [],
   "source": [
    "remove_spaces(macy_tops,'prodcut_description')"
   ]
  },
  {
   "cell_type": "code",
   "execution_count": 31,
   "metadata": {},
   "outputs": [],
   "source": [
    "from collections import Counter"
   ]
  },
  {
   "cell_type": "code",
   "execution_count": 36,
   "metadata": {},
   "outputs": [],
   "source": [
    "remove_spaces(macy_tops,'material_description')"
   ]
  },
  {
   "cell_type": "code",
   "execution_count": 40,
   "metadata": {},
   "outputs": [],
   "source": [
    "macy_tops['brand'] = \"Macy\""
   ]
  },
  {
   "cell_type": "code",
   "execution_count": 42,
   "metadata": {},
   "outputs": [],
   "source": [
    "macy_dress = pd.read_csv('macy_dresses.csv')"
   ]
  },
  {
   "cell_type": "code",
   "execution_count": 44,
   "metadata": {},
   "outputs": [],
   "source": [
    "remove_spaces(macy_dress,'material_description')\n",
    "remove_spaces(macy_dress,'prodcut_description')"
   ]
  },
  {
   "cell_type": "code",
   "execution_count": 46,
   "metadata": {},
   "outputs": [],
   "source": [
    "macy_dress['brand'] = 'Macy'"
   ]
  },
  {
   "cell_type": "code",
   "execution_count": null,
   "metadata": {},
   "outputs": [],
   "source": []
  },
  {
   "cell_type": "code",
   "execution_count": 47,
   "metadata": {},
   "outputs": [],
   "source": [
    "asos_tops = pd.read_csv('asos_top.csv')"
   ]
  },
  {
   "cell_type": "code",
   "execution_count": 49,
   "metadata": {},
   "outputs": [],
   "source": [
    "asos_tops['brand'] = 'ASOS'"
   ]
  },
  {
   "cell_type": "code",
   "execution_count": 51,
   "metadata": {},
   "outputs": [],
   "source": [
    "asos_dress = pd.read_csv('asos_dress.csv')"
   ]
  },
  {
   "cell_type": "code",
   "execution_count": 53,
   "metadata": {},
   "outputs": [],
   "source": [
    "asos_dress['brand'] = 'ASOS'"
   ]
  },
  {
   "cell_type": "code",
   "execution_count": null,
   "metadata": {},
   "outputs": [],
   "source": []
  },
  {
   "cell_type": "code",
   "execution_count": 57,
   "metadata": {},
   "outputs": [],
   "source": [
    "bloomd_dress = pd.read_csv('bld_dress.csv',index_col = False, delimiter='\\t')"
   ]
  },
  {
   "cell_type": "code",
   "execution_count": 58,
   "metadata": {},
   "outputs": [
    {
     "data": {
      "text/html": [
       "<div>\n",
       "<style scoped>\n",
       "    .dataframe tbody tr th:only-of-type {\n",
       "        vertical-align: middle;\n",
       "    }\n",
       "\n",
       "    .dataframe tbody tr th {\n",
       "        vertical-align: top;\n",
       "    }\n",
       "\n",
       "    .dataframe thead th {\n",
       "        text-align: right;\n",
       "    }\n",
       "</style>\n",
       "<table border=\"1\" class=\"dataframe\">\n",
       "  <thead>\n",
       "    <tr style=\"text-align: right;\">\n",
       "      <th></th>\n",
       "      <th>brand</th>\n",
       "      <th>desc_list</th>\n",
       "      <th>full_file_name</th>\n",
       "      <th>price_dis</th>\n",
       "      <th>price_reg</th>\n",
       "      <th>prod_image</th>\n",
       "      <th>prod_name</th>\n",
       "    </tr>\n",
       "  </thead>\n",
       "  <tbody>\n",
       "    <tr>\n",
       "      <th>0</th>\n",
       "      <td>Dress the Population</td>\n",
       "      <td>Fits small, order one size up,Designed for a c...</td>\n",
       "      <td>img9791186_fpx_tif</td>\n",
       "      <td>$238.00</td>\n",
       "      <td>$238.00</td>\n",
       "      <td>https://images.bloomingdalesassets.com/is/imag...</td>\n",
       "      <td>Isabelle Midi Dress</td>\n",
       "    </tr>\n",
       "    <tr>\n",
       "      <th>1</th>\n",
       "      <td>Kobi Halperin</td>\n",
       "      <td>Fits true to size, order your normal size,Appr...</td>\n",
       "      <td>img9884327_fpx_tif</td>\n",
       "      <td>$448.50</td>\n",
       "      <td>$598.00</td>\n",
       "      <td>https://images.bloomingdalesassets.com/is/imag...</td>\n",
       "      <td>Nichole Silk Midi Dress</td>\n",
       "    </tr>\n",
       "    <tr>\n",
       "      <th>2</th>\n",
       "      <td>Lauren Ralph Lauren Petites</td>\n",
       "      <td>Fits true to size, order your normal size,Desi...</td>\n",
       "      <td>img9888443_fpx_tif</td>\n",
       "      <td>$78.75</td>\n",
       "      <td>$150.00</td>\n",
       "      <td>https://images.bloomingdalesassets.com/is/imag...</td>\n",
       "      <td>Shirred Flutter-Sleeve Dress</td>\n",
       "    </tr>\n",
       "    <tr>\n",
       "      <th>3</th>\n",
       "      <td>Lauren Ralph Lauren</td>\n",
       "      <td>Fits true to size, order your normal size,Desi...</td>\n",
       "      <td>img9950016_fpx_tif</td>\n",
       "      <td>$280.00</td>\n",
       "      <td>$280.00</td>\n",
       "      <td>https://images.bloomingdalesassets.com/is/imag...</td>\n",
       "      <td>Floral Embroidered Gown</td>\n",
       "    </tr>\n",
       "    <tr>\n",
       "      <th>4</th>\n",
       "      <td>AQUA</td>\n",
       "      <td>Fits true to size, order your normal size,Desi...</td>\n",
       "      <td>img9752563_fpx_tif</td>\n",
       "      <td>$171.36</td>\n",
       "      <td>$288.00</td>\n",
       "      <td>https://images.bloomingdalesassets.com/is/imag...</td>\n",
       "      <td>Lace Mermaid Gown - 100% Exclusive</td>\n",
       "    </tr>\n",
       "  </tbody>\n",
       "</table>\n",
       "</div>"
      ],
      "text/plain": [
       "                         brand  \\\n",
       "0         Dress the Population   \n",
       "1                Kobi Halperin   \n",
       "2  Lauren Ralph Lauren Petites   \n",
       "3          Lauren Ralph Lauren   \n",
       "4                         AQUA   \n",
       "\n",
       "                                           desc_list      full_file_name  \\\n",
       "0  Fits small, order one size up,Designed for a c...  img9791186_fpx_tif   \n",
       "1  Fits true to size, order your normal size,Appr...  img9884327_fpx_tif   \n",
       "2  Fits true to size, order your normal size,Desi...  img9888443_fpx_tif   \n",
       "3  Fits true to size, order your normal size,Desi...  img9950016_fpx_tif   \n",
       "4  Fits true to size, order your normal size,Desi...  img9752563_fpx_tif   \n",
       "\n",
       "  price_dis price_reg                                         prod_image  \\\n",
       "0   $238.00   $238.00  https://images.bloomingdalesassets.com/is/imag...   \n",
       "1   $448.50   $598.00  https://images.bloomingdalesassets.com/is/imag...   \n",
       "2    $78.75   $150.00  https://images.bloomingdalesassets.com/is/imag...   \n",
       "3   $280.00   $280.00  https://images.bloomingdalesassets.com/is/imag...   \n",
       "4   $171.36   $288.00  https://images.bloomingdalesassets.com/is/imag...   \n",
       "\n",
       "                            prod_name  \n",
       "0                 Isabelle Midi Dress  \n",
       "1             Nichole Silk Midi Dress  \n",
       "2        Shirred Flutter-Sleeve Dress  \n",
       "3             Floral Embroidered Gown  \n",
       "4  Lace Mermaid Gown - 100% Exclusive  "
      ]
     },
     "execution_count": 58,
     "metadata": {},
     "output_type": "execute_result"
    }
   ],
   "source": [
    "bloomd_dress.head()"
   ]
  },
  {
   "cell_type": "code",
   "execution_count": 59,
   "metadata": {},
   "outputs": [],
   "source": [
    "bloomd_dress['website'] = \"Bloomingdales\""
   ]
  },
  {
   "cell_type": "code",
   "execution_count": 62,
   "metadata": {},
   "outputs": [],
   "source": [
    "bloomd_tops = pd.read_csv('bld_tops.csv',index_col=False,delimiter='\\t')"
   ]
  },
  {
   "cell_type": "code",
   "execution_count": 64,
   "metadata": {},
   "outputs": [],
   "source": [
    "bloomd_tops['website'] = 'Bloomingdales'"
   ]
  },
  {
   "cell_type": "code",
   "execution_count": null,
   "metadata": {},
   "outputs": [],
   "source": []
  },
  {
   "cell_type": "code",
   "execution_count": 67,
   "metadata": {},
   "outputs": [],
   "source": [
    "hm_tops['website'] = 'HM'\n",
    "hm_dresses['website'] = 'HM'"
   ]
  },
  {
   "cell_type": "code",
   "execution_count": 71,
   "metadata": {},
   "outputs": [],
   "source": [
    "macy_tops = macy_tops.drop('brand',axis=1)"
   ]
  },
  {
   "cell_type": "code",
   "execution_count": 72,
   "metadata": {},
   "outputs": [],
   "source": [
    "macy_dress = macy_dress.drop('brand',axis=1)"
   ]
  },
  {
   "cell_type": "code",
   "execution_count": 73,
   "metadata": {},
   "outputs": [],
   "source": [
    "macy_tops['website'] = 'Macy'\n",
    "macy_dress['website'] = 'Macy'"
   ]
  },
  {
   "cell_type": "code",
   "execution_count": 78,
   "metadata": {},
   "outputs": [],
   "source": [
    "asos_tops = asos_tops.rename(index=str,columns={'brand':'website'})\n",
    "asos_dress = asos_dress.rename(index=str,columns={'brand':'website'})"
   ]
  },
  {
   "cell_type": "code",
   "execution_count": 81,
   "metadata": {},
   "outputs": [
    {
     "data": {
      "text/plain": [
       "'https://images.asos-media.com/products/asos-design-soft-shirt-with-short-sleeves/8032853-2'"
      ]
     },
     "execution_count": 81,
     "metadata": {},
     "output_type": "execute_result"
    }
   ],
   "source": [
    "asos_tops.back_img[0]"
   ]
  },
  {
   "cell_type": "code",
   "execution_count": 82,
   "metadata": {},
   "outputs": [
    {
     "data": {
      "text/plain": [
       "'https://images.asos-media.com/products/asos-design-soft-shirt-with-short-sleeves/8032853-1-ivory'"
      ]
     },
     "execution_count": 82,
     "metadata": {},
     "output_type": "execute_result"
    }
   ],
   "source": [
    "asos_tops.front_img[0]"
   ]
  },
  {
   "cell_type": "code",
   "execution_count": 83,
   "metadata": {},
   "outputs": [],
   "source": [
    "import numpy as np"
   ]
  },
  {
   "cell_type": "code",
   "execution_count": 84,
   "metadata": {},
   "outputs": [
    {
     "data": {
      "text/html": [
       "<div>\n",
       "<style scoped>\n",
       "    .dataframe tbody tr th:only-of-type {\n",
       "        vertical-align: middle;\n",
       "    }\n",
       "\n",
       "    .dataframe tbody tr th {\n",
       "        vertical-align: top;\n",
       "    }\n",
       "\n",
       "    .dataframe thead th {\n",
       "        text-align: right;\n",
       "    }\n",
       "</style>\n",
       "<table border=\"1\" class=\"dataframe\">\n",
       "  <thead>\n",
       "    <tr style=\"text-align: right;\">\n",
       "      <th></th>\n",
       "      <th>price</th>\n",
       "      <th>material</th>\n",
       "      <th>description</th>\n",
       "      <th>imgurl</th>\n",
       "      <th>title</th>\n",
       "      <th>brand</th>\n",
       "      <th>website</th>\n",
       "    </tr>\n",
       "  </thead>\n",
       "  <tbody>\n",
       "    <tr>\n",
       "      <th>0</th>\n",
       "      <td>$4.99</td>\n",
       "      <td>Front: Length: 63.0 cm (Size M)</td>\n",
       "      <td>T-shirt in lightweight cotton jersey with a ro...</td>\n",
       "      <td>https://lp2.hm.com/hmgoepprod?set=source[/7d/5...</td>\n",
       "      <td>Cotton T-shirt</td>\n",
       "      <td>HM</td>\n",
       "      <td>HM</td>\n",
       "    </tr>\n",
       "    <tr>\n",
       "      <th>1</th>\n",
       "      <td>$14.99</td>\n",
       "      <td>Viscose 100%</td>\n",
       "      <td>Long-sleeved top in airy viscose jersey with a...</td>\n",
       "      <td>https://lp2.hm.com/hmgoepprod?set=source[/3d/e...</td>\n",
       "      <td>V-neck Jersey Top</td>\n",
       "      <td>HM</td>\n",
       "      <td>HM</td>\n",
       "    </tr>\n",
       "    <tr>\n",
       "      <th>2</th>\n",
       "      <td>$9.99</td>\n",
       "      <td>Viscose 100%</td>\n",
       "      <td>Sleeveless top in soft viscose jersey with lac...</td>\n",
       "      <td>https://lp2.hm.com/hmgoepprod?set=source[/17/0...</td>\n",
       "      <td>Jersey Top with Lace</td>\n",
       "      <td>HM</td>\n",
       "      <td>HM</td>\n",
       "    </tr>\n",
       "    <tr>\n",
       "      <th>3</th>\n",
       "      <td>$9.99</td>\n",
       "      <td>Polyester 100%</td>\n",
       "      <td>CONSCIOUS. V-neck top in airy jersey made from...</td>\n",
       "      <td>https://lp2.hm.com/hmgoepprod?set=source[/6c/8...</td>\n",
       "      <td>V-neck Top</td>\n",
       "      <td>HM</td>\n",
       "      <td>HM</td>\n",
       "    </tr>\n",
       "    <tr>\n",
       "      <th>4</th>\n",
       "      <td>$2.99</td>\n",
       "      <td>Fitted</td>\n",
       "      <td>Fitted camisole top in jersey with narrow shou...</td>\n",
       "      <td>https://lp2.hm.com/hmgoepprod?set=source[/e4/8...</td>\n",
       "      <td>Jersey Camisole Top</td>\n",
       "      <td>HM</td>\n",
       "      <td>HM</td>\n",
       "    </tr>\n",
       "  </tbody>\n",
       "</table>\n",
       "</div>"
      ],
      "text/plain": [
       "    price                         material  \\\n",
       "0   $4.99  Front: Length: 63.0 cm (Size M)   \n",
       "1  $14.99                     Viscose 100%   \n",
       "2   $9.99                     Viscose 100%   \n",
       "3   $9.99                   Polyester 100%   \n",
       "4   $2.99                           Fitted   \n",
       "\n",
       "                                         description  \\\n",
       "0  T-shirt in lightweight cotton jersey with a ro...   \n",
       "1  Long-sleeved top in airy viscose jersey with a...   \n",
       "2  Sleeveless top in soft viscose jersey with lac...   \n",
       "3  CONSCIOUS. V-neck top in airy jersey made from...   \n",
       "4  Fitted camisole top in jersey with narrow shou...   \n",
       "\n",
       "                                              imgurl                 title  \\\n",
       "0  https://lp2.hm.com/hmgoepprod?set=source[/7d/5...        Cotton T-shirt   \n",
       "1  https://lp2.hm.com/hmgoepprod?set=source[/3d/e...     V-neck Jersey Top   \n",
       "2  https://lp2.hm.com/hmgoepprod?set=source[/17/0...  Jersey Top with Lace   \n",
       "3  https://lp2.hm.com/hmgoepprod?set=source[/6c/8...            V-neck Top   \n",
       "4  https://lp2.hm.com/hmgoepprod?set=source[/e4/8...   Jersey Camisole Top   \n",
       "\n",
       "  brand website  \n",
       "0    HM      HM  \n",
       "1    HM      HM  \n",
       "2    HM      HM  \n",
       "3    HM      HM  \n",
       "4    HM      HM  "
      ]
     },
     "execution_count": 84,
     "metadata": {},
     "output_type": "execute_result"
    }
   ],
   "source": [
    "hm_tops.head()"
   ]
  },
  {
   "cell_type": "code",
   "execution_count": 87,
   "metadata": {},
   "outputs": [],
   "source": [
    "img_id = []\n",
    "for i in range(0,len(hm_dresses)):\n",
    "    img_name = str(i) + \" \" + hm_dresses.loc[i,'title']\n",
    "    img_id.append(img_name)\n",
    "hm_dresses['img_id'] = img_id"
   ]
  },
  {
   "cell_type": "code",
   "execution_count": 94,
   "metadata": {},
   "outputs": [
    {
     "data": {
      "text/html": [
       "<div>\n",
       "<style scoped>\n",
       "    .dataframe tbody tr th:only-of-type {\n",
       "        vertical-align: middle;\n",
       "    }\n",
       "\n",
       "    .dataframe tbody tr th {\n",
       "        vertical-align: top;\n",
       "    }\n",
       "\n",
       "    .dataframe thead th {\n",
       "        text-align: right;\n",
       "    }\n",
       "</style>\n",
       "<table border=\"1\" class=\"dataframe\">\n",
       "  <thead>\n",
       "    <tr style=\"text-align: right;\">\n",
       "      <th></th>\n",
       "      <th>price</th>\n",
       "      <th>material</th>\n",
       "      <th>description</th>\n",
       "      <th>img_url</th>\n",
       "      <th>product_name</th>\n",
       "      <th>brand</th>\n",
       "      <th>website</th>\n",
       "      <th>img_id</th>\n",
       "    </tr>\n",
       "  </thead>\n",
       "  <tbody>\n",
       "    <tr>\n",
       "      <th>0</th>\n",
       "      <td>$4.99</td>\n",
       "      <td>Front: Length: 63.0 cm (Size M)</td>\n",
       "      <td>T-shirt in lightweight cotton jersey with a ro...</td>\n",
       "      <td>https://lp2.hm.com/hmgoepprod?set=source[/7d/5...</td>\n",
       "      <td>Cotton T-shirt</td>\n",
       "      <td>HM</td>\n",
       "      <td>HM</td>\n",
       "      <td>0 Cotton T-shirt</td>\n",
       "    </tr>\n",
       "    <tr>\n",
       "      <th>1</th>\n",
       "      <td>$14.99</td>\n",
       "      <td>Viscose 100%</td>\n",
       "      <td>Long-sleeved top in airy viscose jersey with a...</td>\n",
       "      <td>https://lp2.hm.com/hmgoepprod?set=source[/3d/e...</td>\n",
       "      <td>V-neck Jersey Top</td>\n",
       "      <td>HM</td>\n",
       "      <td>HM</td>\n",
       "      <td>1 V-neck Jersey Top</td>\n",
       "    </tr>\n",
       "    <tr>\n",
       "      <th>2</th>\n",
       "      <td>$9.99</td>\n",
       "      <td>Viscose 100%</td>\n",
       "      <td>Sleeveless top in soft viscose jersey with lac...</td>\n",
       "      <td>https://lp2.hm.com/hmgoepprod?set=source[/17/0...</td>\n",
       "      <td>Jersey Top with Lace</td>\n",
       "      <td>HM</td>\n",
       "      <td>HM</td>\n",
       "      <td>2 Jersey Top with Lace</td>\n",
       "    </tr>\n",
       "    <tr>\n",
       "      <th>3</th>\n",
       "      <td>$9.99</td>\n",
       "      <td>Polyester 100%</td>\n",
       "      <td>CONSCIOUS. V-neck top in airy jersey made from...</td>\n",
       "      <td>https://lp2.hm.com/hmgoepprod?set=source[/6c/8...</td>\n",
       "      <td>V-neck Top</td>\n",
       "      <td>HM</td>\n",
       "      <td>HM</td>\n",
       "      <td>3 V-neck Top</td>\n",
       "    </tr>\n",
       "    <tr>\n",
       "      <th>4</th>\n",
       "      <td>$2.99</td>\n",
       "      <td>Fitted</td>\n",
       "      <td>Fitted camisole top in jersey with narrow shou...</td>\n",
       "      <td>https://lp2.hm.com/hmgoepprod?set=source[/e4/8...</td>\n",
       "      <td>Jersey Camisole Top</td>\n",
       "      <td>HM</td>\n",
       "      <td>HM</td>\n",
       "      <td>4 Jersey Camisole Top</td>\n",
       "    </tr>\n",
       "  </tbody>\n",
       "</table>\n",
       "</div>"
      ],
      "text/plain": [
       "    price                         material  \\\n",
       "0   $4.99  Front: Length: 63.0 cm (Size M)   \n",
       "1  $14.99                     Viscose 100%   \n",
       "2   $9.99                     Viscose 100%   \n",
       "3   $9.99                   Polyester 100%   \n",
       "4   $2.99                           Fitted   \n",
       "\n",
       "                                         description  \\\n",
       "0  T-shirt in lightweight cotton jersey with a ro...   \n",
       "1  Long-sleeved top in airy viscose jersey with a...   \n",
       "2  Sleeveless top in soft viscose jersey with lac...   \n",
       "3  CONSCIOUS. V-neck top in airy jersey made from...   \n",
       "4  Fitted camisole top in jersey with narrow shou...   \n",
       "\n",
       "                                             img_url          product_name  \\\n",
       "0  https://lp2.hm.com/hmgoepprod?set=source[/7d/5...        Cotton T-shirt   \n",
       "1  https://lp2.hm.com/hmgoepprod?set=source[/3d/e...     V-neck Jersey Top   \n",
       "2  https://lp2.hm.com/hmgoepprod?set=source[/17/0...  Jersey Top with Lace   \n",
       "3  https://lp2.hm.com/hmgoepprod?set=source[/6c/8...            V-neck Top   \n",
       "4  https://lp2.hm.com/hmgoepprod?set=source[/e4/8...   Jersey Camisole Top   \n",
       "\n",
       "  brand website                  img_id  \n",
       "0    HM      HM        0 Cotton T-shirt  \n",
       "1    HM      HM     1 V-neck Jersey Top  \n",
       "2    HM      HM  2 Jersey Top with Lace  \n",
       "3    HM      HM            3 V-neck Top  \n",
       "4    HM      HM   4 Jersey Camisole Top  "
      ]
     },
     "execution_count": 94,
     "metadata": {},
     "output_type": "execute_result"
    }
   ],
   "source": [
    "hm_tops = hm_tops.rename(index=str,columns={'produce_name':'product_name',\n",
    "                                 'imgurl':'img_url'})\n",
    "hm_tops.head()"
   ]
  },
  {
   "cell_type": "code",
   "execution_count": 95,
   "metadata": {},
   "outputs": [],
   "source": [
    "hm_dresses = hm_dresses.rename(index=str,columns={'produce_name':'product_name',\n",
    "                                 'imgurl':'img_url'})"
   ]
  },
  {
   "cell_type": "code",
   "execution_count": 97,
   "metadata": {},
   "outputs": [
    {
     "data": {
      "text/plain": [
       "['price',\n",
       " 'material',\n",
       " 'description',\n",
       " 'img_url',\n",
       " 'product_name',\n",
       " 'brand',\n",
       " 'website',\n",
       " 'img_id']"
      ]
     },
     "execution_count": 97,
     "metadata": {},
     "output_type": "execute_result"
    }
   ],
   "source": [
    "list(hm_tops)"
   ]
  },
  {
   "cell_type": "code",
   "execution_count": 98,
   "metadata": {},
   "outputs": [],
   "source": [
    "hm_tops = hm_tops[['website','brand','product_name','price',\n",
    "                  'description','material','img_url','img_id']]"
   ]
  },
  {
   "cell_type": "code",
   "execution_count": 100,
   "metadata": {},
   "outputs": [],
   "source": [
    "hm_dresses = hm_dresses[list(hm_tops)]"
   ]
  },
  {
   "cell_type": "code",
   "execution_count": 101,
   "metadata": {},
   "outputs": [
    {
     "data": {
      "text/html": [
       "<div>\n",
       "<style scoped>\n",
       "    .dataframe tbody tr th:only-of-type {\n",
       "        vertical-align: middle;\n",
       "    }\n",
       "\n",
       "    .dataframe tbody tr th {\n",
       "        vertical-align: top;\n",
       "    }\n",
       "\n",
       "    .dataframe thead th {\n",
       "        text-align: right;\n",
       "    }\n",
       "</style>\n",
       "<table border=\"1\" class=\"dataframe\">\n",
       "  <thead>\n",
       "    <tr style=\"text-align: right;\">\n",
       "      <th></th>\n",
       "      <th>website</th>\n",
       "      <th>brand</th>\n",
       "      <th>product_name</th>\n",
       "      <th>price</th>\n",
       "      <th>description</th>\n",
       "      <th>material</th>\n",
       "      <th>img_url</th>\n",
       "      <th>img_id</th>\n",
       "    </tr>\n",
       "  </thead>\n",
       "  <tbody>\n",
       "    <tr>\n",
       "      <th>0</th>\n",
       "      <td>HM</td>\n",
       "      <td>HM</td>\n",
       "      <td>Lace Dress</td>\n",
       "      <td>$79.99</td>\n",
       "      <td>Calf-length lace dress with a V-neck. Narrow, ...</td>\n",
       "      <td>Inner layer: Polyester 100%</td>\n",
       "      <td>https://lp2.hm.com/hmgoepprod?set=source[/b3/e...</td>\n",
       "      <td>0 Lace Dress</td>\n",
       "    </tr>\n",
       "    <tr>\n",
       "      <th>1</th>\n",
       "      <td>HM</td>\n",
       "      <td>HM</td>\n",
       "      <td>Short-sleeved Dress</td>\n",
       "      <td>$29.99</td>\n",
       "      <td>Short dress in jersey with a printed design. S...</td>\n",
       "      <td>Polyester 92%; Elastane 8%</td>\n",
       "      <td>https://lp2.hm.com/hmgoepprod?set=source[/d4/f...</td>\n",
       "      <td>1 Short-sleeved Dress</td>\n",
       "    </tr>\n",
       "    <tr>\n",
       "      <th>2</th>\n",
       "      <td>HM</td>\n",
       "      <td>HM</td>\n",
       "      <td>Short Dress</td>\n",
       "      <td>$29.99</td>\n",
       "      <td>Short dress in washed, woven viscose fabric wi...</td>\n",
       "      <td>Viscose 100%</td>\n",
       "      <td>https://lp2.hm.com/hmgoepprod?set=source[/b7/3...</td>\n",
       "      <td>2 Short Dress</td>\n",
       "    </tr>\n",
       "    <tr>\n",
       "      <th>3</th>\n",
       "      <td>HM</td>\n",
       "      <td>HM</td>\n",
       "      <td>Fitted Shirt Dress</td>\n",
       "      <td>$49.99</td>\n",
       "      <td>Short, fitted dress in stretch denim with a co...</td>\n",
       "      <td>Fitted</td>\n",
       "      <td>https://lp2.hm.com/hmgoepprod?set=source[/97/4...</td>\n",
       "      <td>3 Fitted Shirt Dress</td>\n",
       "    </tr>\n",
       "    <tr>\n",
       "      <th>4</th>\n",
       "      <td>HM</td>\n",
       "      <td>HM</td>\n",
       "      <td>Shirt Dress</td>\n",
       "      <td>$24.99</td>\n",
       "      <td>Shirt dress in soft woven fabric. Buttons at f...</td>\n",
       "      <td>Viscose 100%</td>\n",
       "      <td>https://lp2.hm.com/hmgoepprod?set=source[/1c/9...</td>\n",
       "      <td>4 Shirt Dress</td>\n",
       "    </tr>\n",
       "  </tbody>\n",
       "</table>\n",
       "</div>"
      ],
      "text/plain": [
       "  website brand         product_name   price  \\\n",
       "0      HM    HM           Lace Dress  $79.99   \n",
       "1      HM    HM  Short-sleeved Dress  $29.99   \n",
       "2      HM    HM          Short Dress  $29.99   \n",
       "3      HM    HM   Fitted Shirt Dress  $49.99   \n",
       "4      HM    HM          Shirt Dress  $24.99   \n",
       "\n",
       "                                         description  \\\n",
       "0  Calf-length lace dress with a V-neck. Narrow, ...   \n",
       "1  Short dress in jersey with a printed design. S...   \n",
       "2  Short dress in washed, woven viscose fabric wi...   \n",
       "3  Short, fitted dress in stretch denim with a co...   \n",
       "4  Shirt dress in soft woven fabric. Buttons at f...   \n",
       "\n",
       "                      material  \\\n",
       "0  Inner layer: Polyester 100%   \n",
       "1   Polyester 92%; Elastane 8%   \n",
       "2                 Viscose 100%   \n",
       "3                       Fitted   \n",
       "4                 Viscose 100%   \n",
       "\n",
       "                                             img_url                 img_id  \n",
       "0  https://lp2.hm.com/hmgoepprod?set=source[/b3/e...           0 Lace Dress  \n",
       "1  https://lp2.hm.com/hmgoepprod?set=source[/d4/f...  1 Short-sleeved Dress  \n",
       "2  https://lp2.hm.com/hmgoepprod?set=source[/b7/3...          2 Short Dress  \n",
       "3  https://lp2.hm.com/hmgoepprod?set=source[/97/4...   3 Fitted Shirt Dress  \n",
       "4  https://lp2.hm.com/hmgoepprod?set=source[/1c/9...          4 Shirt Dress  "
      ]
     },
     "execution_count": 101,
     "metadata": {},
     "output_type": "execute_result"
    }
   ],
   "source": [
    "hm_dresses.head()"
   ]
  },
  {
   "cell_type": "code",
   "execution_count": 102,
   "metadata": {},
   "outputs": [],
   "source": [
    "def add_top(dataset):\n",
    "    dataset['category'] = 'Top'\n",
    "def add_dress(dataset):\n",
    "    dataset['category'] = 'Dress'"
   ]
  },
  {
   "cell_type": "code",
   "execution_count": 107,
   "metadata": {},
   "outputs": [
    {
     "data": {
      "text/plain": [
       "['website',\n",
       " 'brand',\n",
       " 'product_name',\n",
       " 'price',\n",
       " 'description',\n",
       " 'material',\n",
       " 'img_url',\n",
       " 'img_id',\n",
       " 'category']"
      ]
     },
     "execution_count": 107,
     "metadata": {},
     "output_type": "execute_result"
    }
   ],
   "source": [
    "list(hm_tops)"
   ]
  },
  {
   "cell_type": "code",
   "execution_count": 103,
   "metadata": {},
   "outputs": [
    {
     "name": "stderr",
     "output_type": "stream",
     "text": [
      "/Users/lujian/anaconda2/envs/py36/lib/python3.6/site-packages/ipykernel_launcher.py:2: SettingWithCopyWarning: \n",
      "A value is trying to be set on a copy of a slice from a DataFrame.\n",
      "Try using .loc[row_indexer,col_indexer] = value instead\n",
      "\n",
      "See the caveats in the documentation: http://pandas.pydata.org/pandas-docs/stable/indexing.html#indexing-view-versus-copy\n",
      "  \n"
     ]
    }
   ],
   "source": [
    "add_top(hm_tops)\n",
    "add_top(macy_tops)\n",
    "add_top(bloomd_tops)\n",
    "add_top(asos_tops)\n",
    "add_dress(hm_dresses)\n",
    "add_dress(macy_dress)\n",
    "add_dress(bloomd_dress)\n",
    "add_dress(bloomd_dress)"
   ]
  },
  {
   "cell_type": "code",
   "execution_count": 121,
   "metadata": {},
   "outputs": [],
   "source": [
    "add_dress(asos_dress)"
   ]
  },
  {
   "cell_type": "code",
   "execution_count": 106,
   "metadata": {},
   "outputs": [
    {
     "data": {
      "text/html": [
       "<div>\n",
       "<style scoped>\n",
       "    .dataframe tbody tr th:only-of-type {\n",
       "        vertical-align: middle;\n",
       "    }\n",
       "\n",
       "    .dataframe tbody tr th {\n",
       "        vertical-align: top;\n",
       "    }\n",
       "\n",
       "    .dataframe thead th {\n",
       "        text-align: right;\n",
       "    }\n",
       "</style>\n",
       "<table border=\"1\" class=\"dataframe\">\n",
       "  <thead>\n",
       "    <tr style=\"text-align: right;\">\n",
       "      <th></th>\n",
       "      <th>brand</th>\n",
       "      <th>desc_list</th>\n",
       "      <th>full_file_name</th>\n",
       "      <th>price_dis</th>\n",
       "      <th>price_reg</th>\n",
       "      <th>prod_image</th>\n",
       "      <th>prod_name</th>\n",
       "      <th>website</th>\n",
       "      <th>category</th>\n",
       "    </tr>\n",
       "  </thead>\n",
       "  <tbody>\n",
       "    <tr>\n",
       "      <th>0</th>\n",
       "      <td>Lauren Ralph Lauren</td>\n",
       "      <td>Fits true to size, order your normal size,Desi...</td>\n",
       "      <td>img9874485_fpx_tif</td>\n",
       "      <td>$52.32</td>\n",
       "      <td>$115.00</td>\n",
       "      <td>https://images.bloomingdalesassets.com/is/imag...</td>\n",
       "      <td>Crepe Bell-Sleeve Top</td>\n",
       "      <td>Bloomingdales</td>\n",
       "      <td>Top</td>\n",
       "    </tr>\n",
       "    <tr>\n",
       "      <th>1</th>\n",
       "      <td>Lauren Ralph Lauren</td>\n",
       "      <td>Fits true to size, order your normal size,Desi...</td>\n",
       "      <td>img9938553_fpx_tif</td>\n",
       "      <td>$87.50</td>\n",
       "      <td>$125.00</td>\n",
       "      <td>https://images.bloomingdalesassets.com/is/imag...</td>\n",
       "      <td>Patch-Detail Shirt</td>\n",
       "      <td>Bloomingdales</td>\n",
       "      <td>Top</td>\n",
       "    </tr>\n",
       "    <tr>\n",
       "      <th>2</th>\n",
       "      <td>Ramy Brook</td>\n",
       "      <td>Fits true to size, order your normal size,Desi...</td>\n",
       "      <td>img9979999_fpx_tif</td>\n",
       "      <td>$295.00</td>\n",
       "      <td>$295.00</td>\n",
       "      <td>https://images.bloomingdalesassets.com/is/imag...</td>\n",
       "      <td>Paige Velvet Burnout Top - 100% Exclusive</td>\n",
       "      <td>Bloomingdales</td>\n",
       "      <td>Top</td>\n",
       "    </tr>\n",
       "    <tr>\n",
       "      <th>3</th>\n",
       "      <td>Elie Tahari</td>\n",
       "      <td>Fits true to size, order your normal size,Mode...</td>\n",
       "      <td>img9989633_fpx_tif</td>\n",
       "      <td>$298.00</td>\n",
       "      <td>$298.00</td>\n",
       "      <td>https://images.bloomingdalesassets.com/is/imag...</td>\n",
       "      <td>Jaylah Lace Inset Silk Blouse</td>\n",
       "      <td>Bloomingdales</td>\n",
       "      <td>Top</td>\n",
       "    </tr>\n",
       "    <tr>\n",
       "      <th>4</th>\n",
       "      <td>Nike</td>\n",
       "      <td>Fits true to size, order your normal size,Desi...</td>\n",
       "      <td>img9933386_fpx_tif</td>\n",
       "      <td>$35.00</td>\n",
       "      <td>$35.00</td>\n",
       "      <td>https://images.bloomingdalesassets.com/is/imag...</td>\n",
       "      <td>Sportswear Essential Logo Tank</td>\n",
       "      <td>Bloomingdales</td>\n",
       "      <td>Top</td>\n",
       "    </tr>\n",
       "  </tbody>\n",
       "</table>\n",
       "</div>"
      ],
      "text/plain": [
       "                 brand                                          desc_list  \\\n",
       "0  Lauren Ralph Lauren  Fits true to size, order your normal size,Desi...   \n",
       "1  Lauren Ralph Lauren  Fits true to size, order your normal size,Desi...   \n",
       "2           Ramy Brook  Fits true to size, order your normal size,Desi...   \n",
       "3          Elie Tahari  Fits true to size, order your normal size,Mode...   \n",
       "4                 Nike  Fits true to size, order your normal size,Desi...   \n",
       "\n",
       "       full_file_name price_dis price_reg  \\\n",
       "0  img9874485_fpx_tif    $52.32   $115.00   \n",
       "1  img9938553_fpx_tif    $87.50   $125.00   \n",
       "2  img9979999_fpx_tif   $295.00   $295.00   \n",
       "3  img9989633_fpx_tif   $298.00   $298.00   \n",
       "4  img9933386_fpx_tif    $35.00    $35.00   \n",
       "\n",
       "                                          prod_image  \\\n",
       "0  https://images.bloomingdalesassets.com/is/imag...   \n",
       "1  https://images.bloomingdalesassets.com/is/imag...   \n",
       "2  https://images.bloomingdalesassets.com/is/imag...   \n",
       "3  https://images.bloomingdalesassets.com/is/imag...   \n",
       "4  https://images.bloomingdalesassets.com/is/imag...   \n",
       "\n",
       "                                   prod_name        website category  \n",
       "0                      Crepe Bell-Sleeve Top  Bloomingdales      Top  \n",
       "1                         Patch-Detail Shirt  Bloomingdales      Top  \n",
       "2  Paige Velvet Burnout Top - 100% Exclusive  Bloomingdales      Top  \n",
       "3              Jaylah Lace Inset Silk Blouse  Bloomingdales      Top  \n",
       "4             Sportswear Essential Logo Tank  Bloomingdales      Top  "
      ]
     },
     "execution_count": 106,
     "metadata": {},
     "output_type": "execute_result"
    }
   ],
   "source": [
    "bloomd_tops.head()"
   ]
  },
  {
   "cell_type": "code",
   "execution_count": 110,
   "metadata": {},
   "outputs": [],
   "source": [
    "hm = pd.concat([hm_tops,hm_dresses],ignore_index=True)"
   ]
  },
  {
   "cell_type": "code",
   "execution_count": 122,
   "metadata": {},
   "outputs": [],
   "source": [
    "asos = pd.concat([asos_tops,asos_dress],ignore_index=True)"
   ]
  },
  {
   "cell_type": "code",
   "execution_count": 118,
   "metadata": {},
   "outputs": [],
   "source": [
    "macy = pd.concat([macy_tops,macy_dress],ignore_index=True)"
   ]
  },
  {
   "cell_type": "code",
   "execution_count": 124,
   "metadata": {},
   "outputs": [
    {
     "data": {
      "text/plain": [
       "main_image                0\n",
       "material_description      0\n",
       "other_image_1           715\n",
       "other_image_2           715\n",
       "price                    11\n",
       "prodcut_description       0\n",
       "website                   0\n",
       "category                  0\n",
       "dtype: int64"
      ]
     },
     "execution_count": 124,
     "metadata": {},
     "output_type": "execute_result"
    }
   ],
   "source": [
    "macy.isnull().sum()"
   ]
  },
  {
   "cell_type": "code",
   "execution_count": 135,
   "metadata": {},
   "outputs": [],
   "source": [
    "bloomd = pd.concat([bloomd_tops,bloomd_dress],ignore_index=True)"
   ]
  },
  {
   "cell_type": "code",
   "execution_count": 136,
   "metadata": {},
   "outputs": [
    {
     "data": {
      "text/plain": [
       "brand             0\n",
       "desc_list         0\n",
       "full_file_name    0\n",
       "price_dis         0\n",
       "price_reg         0\n",
       "prod_image        0\n",
       "prod_name         0\n",
       "website           0\n",
       "category          0\n",
       "dtype: int64"
      ]
     },
     "execution_count": 136,
     "metadata": {},
     "output_type": "execute_result"
    }
   ],
   "source": [
    "bloomd.isnull().sum()"
   ]
  },
  {
   "cell_type": "code",
   "execution_count": 123,
   "metadata": {},
   "outputs": [
    {
     "data": {
      "text/plain": [
       "back_img        0\n",
       "description    10\n",
       "front_img       0\n",
       "product         0\n",
       "website         0\n",
       "category        0\n",
       "dtype: int64"
      ]
     },
     "execution_count": 123,
     "metadata": {},
     "output_type": "execute_result"
    }
   ],
   "source": [
    "asos.isnull().sum()"
   ]
  },
  {
   "cell_type": "code",
   "execution_count": 127,
   "metadata": {},
   "outputs": [
    {
     "data": {
      "text/html": [
       "<div>\n",
       "<style scoped>\n",
       "    .dataframe tbody tr th:only-of-type {\n",
       "        vertical-align: middle;\n",
       "    }\n",
       "\n",
       "    .dataframe tbody tr th {\n",
       "        vertical-align: top;\n",
       "    }\n",
       "\n",
       "    .dataframe thead th {\n",
       "        text-align: right;\n",
       "    }\n",
       "</style>\n",
       "<table border=\"1\" class=\"dataframe\">\n",
       "  <thead>\n",
       "    <tr style=\"text-align: right;\">\n",
       "      <th></th>\n",
       "      <th>brand</th>\n",
       "      <th>desc_list</th>\n",
       "      <th>full_file_name</th>\n",
       "      <th>price_dis</th>\n",
       "      <th>price_reg</th>\n",
       "      <th>prod_image</th>\n",
       "      <th>prod_name</th>\n",
       "      <th>website</th>\n",
       "      <th>category</th>\n",
       "    </tr>\n",
       "  </thead>\n",
       "  <tbody>\n",
       "    <tr>\n",
       "      <th>0</th>\n",
       "      <td>Lauren Ralph Lauren</td>\n",
       "      <td>Fits true to size, order your normal size,Desi...</td>\n",
       "      <td>img9874485_fpx_tif</td>\n",
       "      <td>$52.32</td>\n",
       "      <td>$115.00</td>\n",
       "      <td>https://images.bloomingdalesassets.com/is/imag...</td>\n",
       "      <td>Crepe Bell-Sleeve Top</td>\n",
       "      <td>Bloomingdales</td>\n",
       "      <td>Top</td>\n",
       "    </tr>\n",
       "    <tr>\n",
       "      <th>1</th>\n",
       "      <td>Lauren Ralph Lauren</td>\n",
       "      <td>Fits true to size, order your normal size,Desi...</td>\n",
       "      <td>img9938553_fpx_tif</td>\n",
       "      <td>$87.50</td>\n",
       "      <td>$125.00</td>\n",
       "      <td>https://images.bloomingdalesassets.com/is/imag...</td>\n",
       "      <td>Patch-Detail Shirt</td>\n",
       "      <td>Bloomingdales</td>\n",
       "      <td>Top</td>\n",
       "    </tr>\n",
       "    <tr>\n",
       "      <th>2</th>\n",
       "      <td>Ramy Brook</td>\n",
       "      <td>Fits true to size, order your normal size,Desi...</td>\n",
       "      <td>img9979999_fpx_tif</td>\n",
       "      <td>$295.00</td>\n",
       "      <td>$295.00</td>\n",
       "      <td>https://images.bloomingdalesassets.com/is/imag...</td>\n",
       "      <td>Paige Velvet Burnout Top - 100% Exclusive</td>\n",
       "      <td>Bloomingdales</td>\n",
       "      <td>Top</td>\n",
       "    </tr>\n",
       "    <tr>\n",
       "      <th>3</th>\n",
       "      <td>Elie Tahari</td>\n",
       "      <td>Fits true to size, order your normal size,Mode...</td>\n",
       "      <td>img9989633_fpx_tif</td>\n",
       "      <td>$298.00</td>\n",
       "      <td>$298.00</td>\n",
       "      <td>https://images.bloomingdalesassets.com/is/imag...</td>\n",
       "      <td>Jaylah Lace Inset Silk Blouse</td>\n",
       "      <td>Bloomingdales</td>\n",
       "      <td>Top</td>\n",
       "    </tr>\n",
       "    <tr>\n",
       "      <th>4</th>\n",
       "      <td>Nike</td>\n",
       "      <td>Fits true to size, order your normal size,Desi...</td>\n",
       "      <td>img9933386_fpx_tif</td>\n",
       "      <td>$35.00</td>\n",
       "      <td>$35.00</td>\n",
       "      <td>https://images.bloomingdalesassets.com/is/imag...</td>\n",
       "      <td>Sportswear Essential Logo Tank</td>\n",
       "      <td>Bloomingdales</td>\n",
       "      <td>Top</td>\n",
       "    </tr>\n",
       "  </tbody>\n",
       "</table>\n",
       "</div>"
      ],
      "text/plain": [
       "                 brand                                          desc_list  \\\n",
       "0  Lauren Ralph Lauren  Fits true to size, order your normal size,Desi...   \n",
       "1  Lauren Ralph Lauren  Fits true to size, order your normal size,Desi...   \n",
       "2           Ramy Brook  Fits true to size, order your normal size,Desi...   \n",
       "3          Elie Tahari  Fits true to size, order your normal size,Mode...   \n",
       "4                 Nike  Fits true to size, order your normal size,Desi...   \n",
       "\n",
       "       full_file_name price_dis price_reg  \\\n",
       "0  img9874485_fpx_tif    $52.32   $115.00   \n",
       "1  img9938553_fpx_tif    $87.50   $125.00   \n",
       "2  img9979999_fpx_tif   $295.00   $295.00   \n",
       "3  img9989633_fpx_tif   $298.00   $298.00   \n",
       "4  img9933386_fpx_tif    $35.00    $35.00   \n",
       "\n",
       "                                          prod_image  \\\n",
       "0  https://images.bloomingdalesassets.com/is/imag...   \n",
       "1  https://images.bloomingdalesassets.com/is/imag...   \n",
       "2  https://images.bloomingdalesassets.com/is/imag...   \n",
       "3  https://images.bloomingdalesassets.com/is/imag...   \n",
       "4  https://images.bloomingdalesassets.com/is/imag...   \n",
       "\n",
       "                                   prod_name        website category  \n",
       "0                      Crepe Bell-Sleeve Top  Bloomingdales      Top  \n",
       "1                         Patch-Detail Shirt  Bloomingdales      Top  \n",
       "2  Paige Velvet Burnout Top - 100% Exclusive  Bloomingdales      Top  \n",
       "3              Jaylah Lace Inset Silk Blouse  Bloomingdales      Top  \n",
       "4             Sportswear Essential Logo Tank  Bloomingdales      Top  "
      ]
     },
     "execution_count": 127,
     "metadata": {},
     "output_type": "execute_result"
    }
   ],
   "source": [
    "bloomd.head()"
   ]
  },
  {
   "cell_type": "code",
   "execution_count": 137,
   "metadata": {},
   "outputs": [],
   "source": [
    "bloomd = bloomd.rename(index=str,columns={\n",
    "    'desc_list':'description',\n",
    "    'full_file_name':'img_id',\n",
    "    'price_reg':'price',\n",
    "    'prod_image':'img_url',\n",
    "    'prod_name':'product_name'\n",
    "})"
   ]
  },
  {
   "cell_type": "code",
   "execution_count": 138,
   "metadata": {},
   "outputs": [],
   "source": [
    "bloomd['material']=np.nan"
   ]
  },
  {
   "cell_type": "code",
   "execution_count": 139,
   "metadata": {},
   "outputs": [],
   "source": [
    "bloomd = bloomd[list(hm)]"
   ]
  },
  {
   "cell_type": "code",
   "execution_count": 141,
   "metadata": {},
   "outputs": [
    {
     "data": {
      "text/html": [
       "<div>\n",
       "<style scoped>\n",
       "    .dataframe tbody tr th:only-of-type {\n",
       "        vertical-align: middle;\n",
       "    }\n",
       "\n",
       "    .dataframe tbody tr th {\n",
       "        vertical-align: top;\n",
       "    }\n",
       "\n",
       "    .dataframe thead th {\n",
       "        text-align: right;\n",
       "    }\n",
       "</style>\n",
       "<table border=\"1\" class=\"dataframe\">\n",
       "  <thead>\n",
       "    <tr style=\"text-align: right;\">\n",
       "      <th></th>\n",
       "      <th>back_img</th>\n",
       "      <th>description</th>\n",
       "      <th>front_img</th>\n",
       "      <th>product</th>\n",
       "      <th>website</th>\n",
       "      <th>category</th>\n",
       "    </tr>\n",
       "  </thead>\n",
       "  <tbody>\n",
       "    <tr>\n",
       "      <th>0</th>\n",
       "      <td>https://images.asos-media.com/products/asos-de...</td>\n",
       "      <td>Lightweight woven fabric,Semi-sheer finish,Poi...</td>\n",
       "      <td>https://images.asos-media.com/products/asos-de...</td>\n",
       "      <td>ASOS DESIGN soft shirt with short sleeves</td>\n",
       "      <td>ASOS</td>\n",
       "      <td>Top</td>\n",
       "    </tr>\n",
       "    <tr>\n",
       "      <th>1</th>\n",
       "      <td>https://images.asos-media.com/products/pieces-...</td>\n",
       "      <td>The thing you didn't know you needed,Funnel ne...</td>\n",
       "      <td>https://images.asos-media.com/products/pieces-...</td>\n",
       "      <td>Pieces Stripe Funnel Neck Top</td>\n",
       "      <td>ASOS</td>\n",
       "      <td>Top</td>\n",
       "    </tr>\n",
       "    <tr>\n",
       "      <th>2</th>\n",
       "      <td>https://images.asos-media.com/products/asos-de...</td>\n",
       "      <td>Pack of two,Stock up,Crew neck,Plain design,A ...</td>\n",
       "      <td>https://images.asos.com/webcontent/greenroom/v...</td>\n",
       "      <td>ASOS DESIGN Petite ultimate crew neck t-shirt ...</td>\n",
       "      <td>ASOS</td>\n",
       "      <td>Top</td>\n",
       "    </tr>\n",
       "    <tr>\n",
       "      <th>3</th>\n",
       "      <td>https://images.asos-media.com/products/we-are-...</td>\n",
       "      <td>A fail-safe wardrobe addition ,Crew neck,Hand-...</td>\n",
       "      <td>https://images.asos.com/webcontent/greenroom/v...</td>\n",
       "      <td>We Are Hairy People organic cotton sweater wit...</td>\n",
       "      <td>ASOS</td>\n",
       "      <td>Top</td>\n",
       "    </tr>\n",
       "    <tr>\n",
       "      <th>4</th>\n",
       "      <td>https://images.asos-media.com/products/santa-c...</td>\n",
       "      <td>Striped design,Get in line,Cami straps,V-neck ...</td>\n",
       "      <td>https://images.asos-media.com/products/santa-c...</td>\n",
       "      <td>Santa Cruz Cami Tank Top In Summer Stripe</td>\n",
       "      <td>ASOS</td>\n",
       "      <td>Top</td>\n",
       "    </tr>\n",
       "  </tbody>\n",
       "</table>\n",
       "</div>"
      ],
      "text/plain": [
       "                                            back_img  \\\n",
       "0  https://images.asos-media.com/products/asos-de...   \n",
       "1  https://images.asos-media.com/products/pieces-...   \n",
       "2  https://images.asos-media.com/products/asos-de...   \n",
       "3  https://images.asos-media.com/products/we-are-...   \n",
       "4  https://images.asos-media.com/products/santa-c...   \n",
       "\n",
       "                                         description  \\\n",
       "0  Lightweight woven fabric,Semi-sheer finish,Poi...   \n",
       "1  The thing you didn't know you needed,Funnel ne...   \n",
       "2  Pack of two,Stock up,Crew neck,Plain design,A ...   \n",
       "3  A fail-safe wardrobe addition ,Crew neck,Hand-...   \n",
       "4  Striped design,Get in line,Cami straps,V-neck ...   \n",
       "\n",
       "                                           front_img  \\\n",
       "0  https://images.asos-media.com/products/asos-de...   \n",
       "1  https://images.asos-media.com/products/pieces-...   \n",
       "2  https://images.asos.com/webcontent/greenroom/v...   \n",
       "3  https://images.asos.com/webcontent/greenroom/v...   \n",
       "4  https://images.asos-media.com/products/santa-c...   \n",
       "\n",
       "                                             product website category  \n",
       "0          ASOS DESIGN soft shirt with short sleeves    ASOS      Top  \n",
       "1                      Pieces Stripe Funnel Neck Top    ASOS      Top  \n",
       "2  ASOS DESIGN Petite ultimate crew neck t-shirt ...    ASOS      Top  \n",
       "3  We Are Hairy People organic cotton sweater wit...    ASOS      Top  \n",
       "4          Santa Cruz Cami Tank Top In Summer Stripe    ASOS      Top  "
      ]
     },
     "execution_count": 141,
     "metadata": {},
     "output_type": "execute_result"
    }
   ],
   "source": [
    "asos.head()"
   ]
  },
  {
   "cell_type": "code",
   "execution_count": 143,
   "metadata": {},
   "outputs": [],
   "source": [
    "asos = asos.rename(index=str,columns={\n",
    "    'front_img' : 'img_url',\n",
    "    'product' : 'product_name'\n",
    "})"
   ]
  },
  {
   "cell_type": "code",
   "execution_count": 145,
   "metadata": {},
   "outputs": [],
   "source": [
    "asos['brand']=np.nan\n",
    "asos['price']=np.nan\n",
    "asos['material']=np.nan\n",
    "asos['img_id'] = np.nan"
   ]
  },
  {
   "cell_type": "code",
   "execution_count": 146,
   "metadata": {},
   "outputs": [],
   "source": [
    "asos = asos[list(hm)]"
   ]
  },
  {
   "cell_type": "code",
   "execution_count": 148,
   "metadata": {},
   "outputs": [
    {
     "data": {
      "text/html": [
       "<div>\n",
       "<style scoped>\n",
       "    .dataframe tbody tr th:only-of-type {\n",
       "        vertical-align: middle;\n",
       "    }\n",
       "\n",
       "    .dataframe tbody tr th {\n",
       "        vertical-align: top;\n",
       "    }\n",
       "\n",
       "    .dataframe thead th {\n",
       "        text-align: right;\n",
       "    }\n",
       "</style>\n",
       "<table border=\"1\" class=\"dataframe\">\n",
       "  <thead>\n",
       "    <tr style=\"text-align: right;\">\n",
       "      <th></th>\n",
       "      <th>main_image</th>\n",
       "      <th>material_description</th>\n",
       "      <th>other_image_1</th>\n",
       "      <th>other_image_2</th>\n",
       "      <th>price</th>\n",
       "      <th>prodcut_description</th>\n",
       "      <th>website</th>\n",
       "      <th>category</th>\n",
       "    </tr>\n",
       "  </thead>\n",
       "  <tbody>\n",
       "    <tr>\n",
       "      <th>0</th>\n",
       "      <td>https://slimages.macysassets.com/is/image/MCY/...</td>\n",
       "      <td>Approx. model measurements: height: 5'10\"; bus...</td>\n",
       "      <td>NaN</td>\n",
       "      <td>NaN</td>\n",
       "      <td>$59.50</td>\n",
       "      <td>An asymmetrical hem flows beautifully down one...</td>\n",
       "      <td>Macy</td>\n",
       "      <td>Top</td>\n",
       "    </tr>\n",
       "    <tr>\n",
       "      <th>1</th>\n",
       "      <td>https://slimages.macysassets.com/is/image/MCY/...</td>\n",
       "      <td>Approx. model height is 5'10\" and she is weari...</td>\n",
       "      <td>NaN</td>\n",
       "      <td>NaN</td>\n",
       "      <td>$79.50</td>\n",
       "      <td>Subtle ruffled trim outlines the cold-shoulder...</td>\n",
       "      <td>Macy</td>\n",
       "      <td>Top</td>\n",
       "    </tr>\n",
       "    <tr>\n",
       "      <th>2</th>\n",
       "      <td>https://slimages.macysassets.com/is/image/MCY/...</td>\n",
       "      <td>Approx. model height is 5'10\" and she is weari...</td>\n",
       "      <td>NaN</td>\n",
       "      <td>NaN</td>\n",
       "      <td>$54.50</td>\n",
       "      <td>Give your look a laid-back vibe with Style &amp; C...</td>\n",
       "      <td>Macy</td>\n",
       "      <td>Top</td>\n",
       "    </tr>\n",
       "    <tr>\n",
       "      <th>3</th>\n",
       "      <td>https://slimages.macysassets.com/is/image/MCY/...</td>\n",
       "      <td>Fitted; hits at hip,Ruched at side waist,V-nec...</td>\n",
       "      <td>NaN</td>\n",
       "      <td>NaN</td>\n",
       "      <td>$29.50</td>\n",
       "      <td>Update your casual collection with this fitted...</td>\n",
       "      <td>Macy</td>\n",
       "      <td>Top</td>\n",
       "    </tr>\n",
       "    <tr>\n",
       "      <th>4</th>\n",
       "      <td>https://slimages.macysassets.com/is/image/MCY/...</td>\n",
       "      <td>Sweetheart neckline; double-button closure at ...</td>\n",
       "      <td>NaN</td>\n",
       "      <td>NaN</td>\n",
       "      <td>$44.00</td>\n",
       "      <td>Lace-up detailing accentuates the sweetheart n...</td>\n",
       "      <td>Macy</td>\n",
       "      <td>Top</td>\n",
       "    </tr>\n",
       "  </tbody>\n",
       "</table>\n",
       "</div>"
      ],
      "text/plain": [
       "                                          main_image  \\\n",
       "0  https://slimages.macysassets.com/is/image/MCY/...   \n",
       "1  https://slimages.macysassets.com/is/image/MCY/...   \n",
       "2  https://slimages.macysassets.com/is/image/MCY/...   \n",
       "3  https://slimages.macysassets.com/is/image/MCY/...   \n",
       "4  https://slimages.macysassets.com/is/image/MCY/...   \n",
       "\n",
       "                                material_description other_image_1  \\\n",
       "0  Approx. model measurements: height: 5'10\"; bus...           NaN   \n",
       "1  Approx. model height is 5'10\" and she is weari...           NaN   \n",
       "2  Approx. model height is 5'10\" and she is weari...           NaN   \n",
       "3  Fitted; hits at hip,Ruched at side waist,V-nec...           NaN   \n",
       "4  Sweetheart neckline; double-button closure at ...           NaN   \n",
       "\n",
       "  other_image_2    price                                prodcut_description  \\\n",
       "0           NaN   $59.50  An asymmetrical hem flows beautifully down one...   \n",
       "1           NaN   $79.50  Subtle ruffled trim outlines the cold-shoulder...   \n",
       "2           NaN   $54.50  Give your look a laid-back vibe with Style & C...   \n",
       "3           NaN   $29.50  Update your casual collection with this fitted...   \n",
       "4           NaN   $44.00  Lace-up detailing accentuates the sweetheart n...   \n",
       "\n",
       "  website category  \n",
       "0    Macy      Top  \n",
       "1    Macy      Top  \n",
       "2    Macy      Top  \n",
       "3    Macy      Top  \n",
       "4    Macy      Top  "
      ]
     },
     "execution_count": 148,
     "metadata": {},
     "output_type": "execute_result"
    }
   ],
   "source": [
    "macy.head()"
   ]
  },
  {
   "cell_type": "code",
   "execution_count": 156,
   "metadata": {},
   "outputs": [],
   "source": [
    "macy = macy.rename(index=str,columns={\n",
    "    'prodcut_description':'description',\n",
    "    'material_description':'material',\n",
    "    'main_image':'img_url'\n",
    "})"
   ]
  },
  {
   "cell_type": "code",
   "execution_count": 152,
   "metadata": {},
   "outputs": [],
   "source": [
    "macy['product_name'] = np.nan\n",
    "macy['img_id'] = np.nan"
   ]
  },
  {
   "cell_type": "code",
   "execution_count": 154,
   "metadata": {},
   "outputs": [],
   "source": [
    "macy['brand'] = np.nan"
   ]
  },
  {
   "cell_type": "code",
   "execution_count": 158,
   "metadata": {},
   "outputs": [],
   "source": [
    "macy = macy[list(hm)]"
   ]
  },
  {
   "cell_type": "code",
   "execution_count": 177,
   "metadata": {},
   "outputs": [],
   "source": [
    "all_product = pd.concat([hm,macy,bloomd,asos],ignore_index=True)"
   ]
  },
  {
   "cell_type": "code",
   "execution_count": 178,
   "metadata": {},
   "outputs": [
    {
     "data": {
      "text/html": [
       "<div>\n",
       "<style scoped>\n",
       "    .dataframe tbody tr th:only-of-type {\n",
       "        vertical-align: middle;\n",
       "    }\n",
       "\n",
       "    .dataframe tbody tr th {\n",
       "        vertical-align: top;\n",
       "    }\n",
       "\n",
       "    .dataframe thead th {\n",
       "        text-align: right;\n",
       "    }\n",
       "</style>\n",
       "<table border=\"1\" class=\"dataframe\">\n",
       "  <thead>\n",
       "    <tr style=\"text-align: right;\">\n",
       "      <th></th>\n",
       "      <th>website</th>\n",
       "      <th>brand</th>\n",
       "      <th>product_name</th>\n",
       "      <th>price</th>\n",
       "      <th>description</th>\n",
       "      <th>material</th>\n",
       "      <th>img_url</th>\n",
       "      <th>img_id</th>\n",
       "      <th>category</th>\n",
       "    </tr>\n",
       "  </thead>\n",
       "  <tbody>\n",
       "    <tr>\n",
       "      <th>0</th>\n",
       "      <td>HM</td>\n",
       "      <td>HM</td>\n",
       "      <td>Cotton T-shirt</td>\n",
       "      <td>$4.99</td>\n",
       "      <td>T-shirt in lightweight cotton jersey with a ro...</td>\n",
       "      <td>Front: Length: 63.0 cm (Size M)</td>\n",
       "      <td>https://lp2.hm.com/hmgoepprod?set=source[/7d/5...</td>\n",
       "      <td>0 Cotton T-shirt</td>\n",
       "      <td>Top</td>\n",
       "    </tr>\n",
       "    <tr>\n",
       "      <th>1</th>\n",
       "      <td>HM</td>\n",
       "      <td>HM</td>\n",
       "      <td>V-neck Jersey Top</td>\n",
       "      <td>$14.99</td>\n",
       "      <td>Long-sleeved top in airy viscose jersey with a...</td>\n",
       "      <td>Viscose 100%</td>\n",
       "      <td>https://lp2.hm.com/hmgoepprod?set=source[/3d/e...</td>\n",
       "      <td>1 V-neck Jersey Top</td>\n",
       "      <td>Top</td>\n",
       "    </tr>\n",
       "    <tr>\n",
       "      <th>2</th>\n",
       "      <td>HM</td>\n",
       "      <td>HM</td>\n",
       "      <td>Jersey Top with Lace</td>\n",
       "      <td>$9.99</td>\n",
       "      <td>Sleeveless top in soft viscose jersey with lac...</td>\n",
       "      <td>Viscose 100%</td>\n",
       "      <td>https://lp2.hm.com/hmgoepprod?set=source[/17/0...</td>\n",
       "      <td>2 Jersey Top with Lace</td>\n",
       "      <td>Top</td>\n",
       "    </tr>\n",
       "    <tr>\n",
       "      <th>3</th>\n",
       "      <td>HM</td>\n",
       "      <td>HM</td>\n",
       "      <td>V-neck Top</td>\n",
       "      <td>$9.99</td>\n",
       "      <td>CONSCIOUS. V-neck top in airy jersey made from...</td>\n",
       "      <td>Polyester 100%</td>\n",
       "      <td>https://lp2.hm.com/hmgoepprod?set=source[/6c/8...</td>\n",
       "      <td>3 V-neck Top</td>\n",
       "      <td>Top</td>\n",
       "    </tr>\n",
       "    <tr>\n",
       "      <th>4</th>\n",
       "      <td>HM</td>\n",
       "      <td>HM</td>\n",
       "      <td>Jersey Camisole Top</td>\n",
       "      <td>$2.99</td>\n",
       "      <td>Fitted camisole top in jersey with narrow shou...</td>\n",
       "      <td>Fitted</td>\n",
       "      <td>https://lp2.hm.com/hmgoepprod?set=source[/e4/8...</td>\n",
       "      <td>4 Jersey Camisole Top</td>\n",
       "      <td>Top</td>\n",
       "    </tr>\n",
       "  </tbody>\n",
       "</table>\n",
       "</div>"
      ],
      "text/plain": [
       "  website brand          product_name   price  \\\n",
       "0      HM    HM        Cotton T-shirt   $4.99   \n",
       "1      HM    HM     V-neck Jersey Top  $14.99   \n",
       "2      HM    HM  Jersey Top with Lace   $9.99   \n",
       "3      HM    HM            V-neck Top   $9.99   \n",
       "4      HM    HM   Jersey Camisole Top   $2.99   \n",
       "\n",
       "                                         description  \\\n",
       "0  T-shirt in lightweight cotton jersey with a ro...   \n",
       "1  Long-sleeved top in airy viscose jersey with a...   \n",
       "2  Sleeveless top in soft viscose jersey with lac...   \n",
       "3  CONSCIOUS. V-neck top in airy jersey made from...   \n",
       "4  Fitted camisole top in jersey with narrow shou...   \n",
       "\n",
       "                          material  \\\n",
       "0  Front: Length: 63.0 cm (Size M)   \n",
       "1                     Viscose 100%   \n",
       "2                     Viscose 100%   \n",
       "3                   Polyester 100%   \n",
       "4                           Fitted   \n",
       "\n",
       "                                             img_url                  img_id  \\\n",
       "0  https://lp2.hm.com/hmgoepprod?set=source[/7d/5...        0 Cotton T-shirt   \n",
       "1  https://lp2.hm.com/hmgoepprod?set=source[/3d/e...     1 V-neck Jersey Top   \n",
       "2  https://lp2.hm.com/hmgoepprod?set=source[/17/0...  2 Jersey Top with Lace   \n",
       "3  https://lp2.hm.com/hmgoepprod?set=source[/6c/8...            3 V-neck Top   \n",
       "4  https://lp2.hm.com/hmgoepprod?set=source[/e4/8...   4 Jersey Camisole Top   \n",
       "\n",
       "  category  \n",
       "0      Top  \n",
       "1      Top  \n",
       "2      Top  \n",
       "3      Top  \n",
       "4      Top  "
      ]
     },
     "execution_count": 178,
     "metadata": {},
     "output_type": "execute_result"
    }
   ],
   "source": [
    "all_product.head()"
   ]
  },
  {
   "cell_type": "code",
   "execution_count": 180,
   "metadata": {},
   "outputs": [
    {
     "data": {
      "text/plain": [
       "website            0\n",
       "brand           9704\n",
       "product_name    1080\n",
       "price           8635\n",
       "description       10\n",
       "material        9586\n",
       "img_url            0\n",
       "img_id          9704\n",
       "category           0\n",
       "dtype: int64"
      ]
     },
     "execution_count": 180,
     "metadata": {},
     "output_type": "execute_result"
    }
   ],
   "source": [
    "all_product.isnull().sum()"
   ]
  },
  {
   "cell_type": "code",
   "execution_count": 183,
   "metadata": {},
   "outputs": [],
   "source": [
    "all_product.product_name = all_product.product_name.fillna('')\n",
    "all_product.description = all_product.description.fillna('')\n",
    "all_product.material = all_product.material.fillna('')"
   ]
  },
  {
   "cell_type": "code",
   "execution_count": 184,
   "metadata": {},
   "outputs": [],
   "source": [
    "all_product['alltext'] = all_product.product_name + ' ' + all_product.description + ' ' + all_product.material"
   ]
  },
  {
   "cell_type": "code",
   "execution_count": 187,
   "metadata": {},
   "outputs": [],
   "source": [
    "all_product.to_csv('all.csv')"
   ]
  },
  {
   "cell_type": "code",
   "execution_count": 188,
   "metadata": {},
   "outputs": [],
   "source": [
    "import re"
   ]
  },
  {
   "cell_type": "code",
   "execution_count": 190,
   "metadata": {},
   "outputs": [
    {
     "data": {
      "text/plain": [
       "'$4.99'"
      ]
     },
     "execution_count": 190,
     "metadata": {},
     "output_type": "execute_result"
    }
   ],
   "source": [
    "all_product.price[0]"
   ]
  },
  {
   "cell_type": "code",
   "execution_count": 193,
   "metadata": {},
   "outputs": [
    {
     "data": {
      "text/plain": [
       "4.99"
      ]
     },
     "execution_count": 193,
     "metadata": {},
     "output_type": "execute_result"
    }
   ],
   "source": [
    "float(re.sub('\\$','',all_product.price[0]))"
   ]
  },
  {
   "cell_type": "code",
   "execution_count": 195,
   "metadata": {},
   "outputs": [],
   "source": [
    "import os"
   ]
  },
  {
   "cell_type": "code",
   "execution_count": 197,
   "metadata": {},
   "outputs": [
    {
     "name": "stdout",
     "output_type": "stream",
     "text": [
      "Collecting wordcloud\n",
      "\u001b[?25l  Downloading https://files.pythonhosted.org/packages/55/01/14a0c510c936cefd4bc7d77281ead4deee10d238cdfb01f1ce5b7c5fa5c7/wordcloud-1.5.0-cp36-cp36m-macosx_10_6_x86_64.whl (157kB)\n",
      "\u001b[K    100% |████████████████████████████████| 163kB 7.9MB/s eta 0:00:01\n",
      "\u001b[?25hRequirement already satisfied: pillow in /Users/lujian/anaconda2/envs/py36/lib/python3.6/site-packages (from wordcloud) (5.1.0)\n",
      "Requirement already satisfied: numpy>=1.6.1 in /Users/lujian/anaconda2/envs/py36/lib/python3.6/site-packages (from wordcloud) (1.14.3)\n",
      "Installing collected packages: wordcloud\n",
      "Successfully installed wordcloud-1.5.0\n"
     ]
    }
   ],
   "source": [
    "!pip install wordcloud"
   ]
  },
  {
   "cell_type": "code",
   "execution_count": 198,
   "metadata": {},
   "outputs": [],
   "source": [
    "from os import path\n",
    "from wordcloud import WordCloud"
   ]
  },
  {
   "cell_type": "code",
   "execution_count": 210,
   "metadata": {},
   "outputs": [],
   "source": [
    "wordcloud = WordCloud().generate(allstring)"
   ]
  },
  {
   "cell_type": "code",
   "execution_count": 211,
   "metadata": {},
   "outputs": [
    {
     "data": {
      "text/plain": [
       "<matplotlib.image.AxesImage at 0x115c40668>"
      ]
     },
     "execution_count": 211,
     "metadata": {},
     "output_type": "execute_result"
    },
    {
     "data": {
      "image/png": "[encoded data removed]",
      "text/plain": [
       "<Figure size 432x288 with 1 Axes>"
      ]
     },
     "metadata": {},
     "output_type": "display_data"
    }
   ],
   "source": [
    "import matplotlib.pyplot as plt\n",
    "plt.imshow(wordcloud,interpolation='bilinear')"
   ]
  },
  {
   "cell_type": "code",
   "execution_count": 205,
   "metadata": {},
   "outputs": [],
   "source": [
    "allstring = ''\n",
    "for i in all_product.alltext:\n",
    "    allstring += ' ' + i"
   ]
  },
  {
   "cell_type": "code",
   "execution_count": 209,
   "metadata": {},
   "outputs": [],
   "source": [
    "allstring = allstring.lower()"
   ]
  }
 ],
 "metadata": {
  "kernelspec": {
   "display_name": "Python 3",
   "language": "python",
   "name": "python3"
  },
  "language_info": {
   "codemirror_mode": {
    "name": "ipython",
    "version": 3
   },
   "file_extension": ".py",
   "mimetype": "text/x-python",
   "name": "python",
   "nbconvert_exporter": "python",
   "pygments_lexer": "ipython3",
   "version": "3.6.5"
  }
 },
 "nbformat": 4,
 "nbformat_minor": 2
}
